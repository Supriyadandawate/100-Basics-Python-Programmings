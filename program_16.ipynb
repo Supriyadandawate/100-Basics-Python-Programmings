{
  "nbformat": 4,
  "nbformat_minor": 0,
  "metadata": {
    "colab": {
      "provenance": [],
      "authorship_tag": "ABX9TyPIS5IoAmIPX+dnau4Whkit",
      "include_colab_link": true
    },
    "kernelspec": {
      "name": "python3",
      "display_name": "Python 3"
    },
    "language_info": {
      "name": "python"
    }
  },
  "cells": [
    {
      "cell_type": "markdown",
      "metadata": {
        "id": "view-in-github",
        "colab_type": "text"
      },
      "source": [
        "<a href=\"https://colab.research.google.com/github/Supriyadandawate/100-Basics-Python-Programmings/blob/main/program_16.ipynb\" target=\"_parent\"><img src=\"https://colab.research.google.com/assets/colab-badge.svg\" alt=\"Open In Colab\"/></a>"
      ]
    },
    {
      "cell_type": "markdown",
      "source": [
        "# Write a program to find the simple interest when the value of principle ,rate of interest and time period is provided by the user.\n"
      ],
      "metadata": {
        "id": "wUJKxLQgHeGZ"
      }
    },
    {
      "cell_type": "code",
      "execution_count": 1,
      "metadata": {
        "colab": {
          "base_uri": "https://localhost:8080/"
        },
        "id": "p6FmFBTmG90q",
        "outputId": "49a98047-6b36-4bed-a4af-9bdc185f4748"
      },
      "outputs": [
        {
          "output_type": "stream",
          "name": "stdout",
          "text": [
            "Enter amount 1000\n",
            "Enter time 10\n",
            "Enter rate 5\n",
            "Simple Interest is  500.0\n"
          ]
        }
      ],
      "source": [
        "# Write your code here\n",
        "p = int(input(\"Enter amount \"))\n",
        "t = int(input(\"Enter time \"))\n",
        "r = int(input(\"Enter rate \"))\n",
        "si  =  (p*t*r)/100  # formula\n",
        "print(\"Simple Interest is \",si)"
      ]
    }
  ]
}