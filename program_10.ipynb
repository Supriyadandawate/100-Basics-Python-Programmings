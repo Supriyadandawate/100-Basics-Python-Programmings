{
  "nbformat": 4,
  "nbformat_minor": 0,
  "metadata": {
    "colab": {
      "provenance": [],
      "authorship_tag": "ABX9TyMGBBogEHdfw1H1i9FCyxc3",
      "include_colab_link": true
    },
    "kernelspec": {
      "name": "python3",
      "display_name": "Python 3"
    },
    "language_info": {
      "name": "python"
    }
  },
  "cells": [
    {
      "cell_type": "markdown",
      "metadata": {
        "id": "view-in-github",
        "colab_type": "text"
      },
      "source": [
        "<a href=\"https://colab.research.google.com/github/Supriyadandawate/100-Basics-Python-Programmings/blob/main/program_10.ipynb\" target=\"_parent\"><img src=\"https://colab.research.google.com/assets/colab-badge.svg\" alt=\"Open In Colab\"/></a>"
      ]
    },
    {
      "cell_type": "markdown",
      "source": [
        "# How to calculate Area of Triangle"
      ],
      "metadata": {
        "id": "wxfYjve5YzHx"
      }
    },
    {
      "cell_type": "code",
      "execution_count": null,
      "metadata": {
        "colab": {
          "base_uri": "https://localhost:8080/"
        },
        "id": "1_5HabO9XtQf",
        "outputId": "86c42e03-50e2-4657-fbee-26f66a509a2a"
      },
      "outputs": [
        {
          "output_type": "stream",
          "name": "stdout",
          "text": [
            "enter the height of the triangle: 12.5\n",
            "enter the base of the triangle : 5.5\n",
            "the area of triangle is 34.375\n"
          ]
        }
      ],
      "source": [
        "height= float(input(\"enter the height of the triangle: \"))\n",
        "base = float(input(\"enter the base of the triangle : \"))\n",
        "\n",
        "# formula Area of Triangle\n",
        "area = 1/2 *base *height\n",
        "print('the area of triangle is',area)"
      ]
    }
  ]
}