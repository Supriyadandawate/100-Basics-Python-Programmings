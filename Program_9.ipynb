{
  "nbformat": 4,
  "nbformat_minor": 0,
  "metadata": {
    "colab": {
      "provenance": [],
      "authorship_tag": "ABX9TyNhILlcItiiJ0FuReXvCXXE",
      "include_colab_link": true
    },
    "kernelspec": {
      "name": "python3",
      "display_name": "Python 3"
    },
    "language_info": {
      "name": "python"
    }
  },
  "cells": [
    {
      "cell_type": "markdown",
      "metadata": {
        "id": "view-in-github",
        "colab_type": "text"
      },
      "source": [
        "<a href=\"https://colab.research.google.com/github/Supriyadandawate/100-Basics-Python-Programmings/blob/main/Program_9.ipynb\" target=\"_parent\"><img src=\"https://colab.research.google.com/assets/colab-badge.svg\" alt=\"Open In Colab\"/></a>"
      ]
    },
    {
      "cell_type": "code",
      "execution_count": 3,
      "metadata": {
        "colab": {
          "base_uri": "https://localhost:8080/"
        },
        "id": "BMDUwWXYWlL8",
        "outputId": "adb9041f-3e35-42b2-f057-d59f6d337670"
      },
      "outputs": [
        {
          "output_type": "stream",
          "name": "stdout",
          "text": [
            "After Swapping\n",
            "a = 5\n",
            "b = 10\n"
          ]
        }
      ],
      "source": [
        "a=5\n",
        "b=10\n",
        "# swaping without a temporary variable\n",
        "a,b = b,a\n",
        "print (\"After Swapping\")\n",
        "print(\"a =\",b)\n",
        "print(\"b =\",a)"
      ]
    }
  ]
}