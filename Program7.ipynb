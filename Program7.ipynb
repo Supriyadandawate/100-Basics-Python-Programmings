{
  "nbformat": 4,
  "nbformat_minor": 0,
  "metadata": {
    "colab": {
      "provenance": [],
      "authorship_tag": "ABX9TyOd5Pr9URLw0DKgEYJ7fRz3",
      "include_colab_link": true
    },
    "kernelspec": {
      "name": "python3",
      "display_name": "Python 3"
    },
    "language_info": {
      "name": "python"
    }
  },
  "cells": [
    {
      "cell_type": "markdown",
      "metadata": {
        "id": "view-in-github",
        "colab_type": "text"
      },
      "source": [
        "<a href=\"https://colab.research.google.com/github/Supriyadandawate/100-Basics-Python-Programmings/blob/main/Program7.ipynb\" target=\"_parent\"><img src=\"https://colab.research.google.com/assets/colab-badge.svg\" alt=\"Open In Colab\"/></a>"
      ]
    },
    {
      "cell_type": "markdown",
      "source": [
        "# Write a python program to convert to Fahrenheit."
      ],
      "metadata": {
        "id": "asMZgAUGrjrM"
      }
    },
    {
      "cell_type": "code",
      "source": [
        "celsius = float(input(\"Enter temperature in celsius: \"))\n",
        "# Conversion formula :Fahrenheit =(Celsius *9/5)+32\n",
        "fahrenheit = (celsius * 9/5) + 32\n",
        "\n",
        "print('%.2f Celsius is: %0.2f Fahrenheit' %(celsius, fahrenheit))"
      ],
      "metadata": {
        "colab": {
          "base_uri": "https://localhost:8080/"
        },
        "id": "Es-tnHA9ruzZ",
        "outputId": "48dd84ce-dc5d-4757-c6bc-37191cd09626"
      },
      "execution_count": 1,
      "outputs": [
        {
          "output_type": "stream",
          "name": "stdout",
          "text": [
            "Enter temperature in celsius: 37\n",
            "37.00 Celsius is: 98.60 Fahrenheit\n"
          ]
        }
      ]
    }
  ]
}