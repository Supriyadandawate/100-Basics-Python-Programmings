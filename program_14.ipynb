{
  "nbformat": 4,
  "nbformat_minor": 0,
  "metadata": {
    "colab": {
      "provenance": [],
      "authorship_tag": "ABX9TyP/WMhYafhuMwCIpJvg/tdl",
      "include_colab_link": true
    },
    "kernelspec": {
      "name": "python3",
      "display_name": "Python 3"
    },
    "language_info": {
      "name": "python"
    }
  },
  "cells": [
    {
      "cell_type": "markdown",
      "metadata": {
        "id": "view-in-github",
        "colab_type": "text"
      },
      "source": [
        "<a href=\"https://colab.research.google.com/github/Supriyadandawate/100-Basics-Python-Programmings/blob/main/program_14.ipynb\" target=\"_parent\"><img src=\"https://colab.research.google.com/assets/colab-badge.svg\" alt=\"Open In Colab\"/></a>"
      ]
    },
    {
      "cell_type": "markdown",
      "source": [
        "# Write a python program to display the multiplication Table."
      ],
      "metadata": {
        "id": "xwsxwhLsDJOS"
      }
    },
    {
      "cell_type": "code",
      "execution_count": 1,
      "metadata": {
        "colab": {
          "base_uri": "https://localhost:8080/"
        },
        "id": "zFNjasEYDFCf",
        "outputId": "20ff87de-3186-48cc-af7c-080c52b6cbf4"
      },
      "outputs": [
        {
          "output_type": "stream",
          "name": "stdout",
          "text": [
            "Display multiplication table of: 19\n",
            "19 x 1 =19\n",
            "19 x 2 =38\n",
            "19 x 3 =57\n",
            "19 x 4 =76\n",
            "19 x 5 =95\n",
            "19 x 6 =114\n",
            "19 x 7 =133\n",
            "19 x 8 =152\n",
            "19 x 9 =171\n",
            "19 x 10 =190\n"
          ]
        }
      ],
      "source": [
        "num = int(input(\"Display multiplication table of: \"))\n",
        "\n",
        "for i in range(1,11):\n",
        "    print(f\"{num} x {i} ={num*i}\")"
      ]
    }
  ]
}