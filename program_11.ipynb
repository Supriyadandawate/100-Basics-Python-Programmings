{
  "nbformat": 4,
  "nbformat_minor": 0,
  "metadata": {
    "colab": {
      "provenance": [],
      "authorship_tag": "ABX9TyNDn0L91nsM64MygmtOeEIj",
      "include_colab_link": true
    },
    "kernelspec": {
      "name": "python3",
      "display_name": "Python 3"
    },
    "language_info": {
      "name": "python"
    }
  },
  "cells": [
    {
      "cell_type": "markdown",
      "metadata": {
        "id": "view-in-github",
        "colab_type": "text"
      },
      "source": [
        "<a href=\"https://colab.research.google.com/github/Supriyadandawate/100-Basics-Python-Programmings/blob/main/program_11.ipynb\" target=\"_parent\"><img src=\"https://colab.research.google.com/assets/colab-badge.svg\" alt=\"Open In Colab\"/></a>"
      ]
    },
    {
      "cell_type": "markdown",
      "source": [
        "# Python Program to check if a Number is Positive ,Negative or 0"
      ],
      "metadata": {
        "id": "Sg1wM9jtaBAL"
      }
    },
    {
      "cell_type": "code",
      "source": [
        "num = 12\n",
        "if num > 0:\n",
        "    print(\"It is a Positive number\")\n",
        "\n",
        "elif num ==0:\n",
        "    print(\"It is zero\")\n",
        "\n",
        "else:\n",
        "    print(\"It is a Negative Number\")"
      ],
      "metadata": {
        "colab": {
          "base_uri": "https://localhost:8080/"
        },
        "id": "hCkaHOANaMKi",
        "outputId": "bc7d8cbb-a7fa-44ac-cf21-a83741f15592"
      },
      "execution_count": 1,
      "outputs": [
        {
          "output_type": "stream",
          "name": "stdout",
          "text": [
            "It is a Positive number\n"
          ]
        }
      ]
    },
    {
      "cell_type": "code",
      "source": [
        "num = int(input(\"Enter a number: \"))\n",
        "if num > 0:\n",
        "    print(\"It is a Positive Number\")\n",
        "elif num==0:\n",
        "    print(\"It is Zero\")\n",
        "else:\n",
        "    print(\"It is a Negative Number\")"
      ],
      "metadata": {
        "colab": {
          "base_uri": "https://localhost:8080/"
        },
        "id": "vkVU5tiTbihI",
        "outputId": "418ff5e0-b877-4d37-a8ab-0891519ac47a"
      },
      "execution_count": 3,
      "outputs": [
        {
          "output_type": "stream",
          "name": "stdout",
          "text": [
            "Enter a number: -4\n",
            "It is a Negative Number\n"
          ]
        }
      ]
    }
  ]
}