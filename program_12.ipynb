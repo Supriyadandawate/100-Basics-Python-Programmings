{
  "nbformat": 4,
  "nbformat_minor": 0,
  "metadata": {
    "colab": {
      "provenance": [],
      "authorship_tag": "ABX9TyNElqT8G2bIceFFDkyscv7v",
      "include_colab_link": true
    },
    "kernelspec": {
      "name": "python3",
      "display_name": "Python 3"
    },
    "language_info": {
      "name": "python"
    }
  },
  "cells": [
    {
      "cell_type": "markdown",
      "metadata": {
        "id": "view-in-github",
        "colab_type": "text"
      },
      "source": [
        "<a href=\"https://colab.research.google.com/github/Supriyadandawate/100-Basics-Python-Programmings/blob/main/program_12.ipynb\" target=\"_parent\"><img src=\"https://colab.research.google.com/assets/colab-badge.svg\" alt=\"Open In Colab\"/></a>"
      ]
    },
    {
      "cell_type": "markdown",
      "source": [
        "# Write a Python Program to check Number is odd or Even"
      ],
      "metadata": {
        "id": "SljPREuhTLxO"
      }
    },
    {
      "cell_type": "code",
      "source": [
        "num = int(input(\"Enter a number :  \"))\n",
        "\n",
        "if num%2 ==0:\n",
        "    print(\"This is a even number\")\n",
        "else:\n",
        "    print(\"This is a odd number\")"
      ],
      "metadata": {
        "colab": {
          "base_uri": "https://localhost:8080/"
        },
        "id": "Q1cWPjWZTN6z",
        "outputId": "06076fe3-6c1b-433b-aa6e-19144bcb3ece"
      },
      "execution_count": 1,
      "outputs": [
        {
          "output_type": "stream",
          "name": "stdout",
          "text": [
            "Enter a number :  12\n",
            "This is a even number\n"
          ]
        }
      ]
    }
  ]
}