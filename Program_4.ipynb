{
  "nbformat": 4,
  "nbformat_minor": 0,
  "metadata": {
    "colab": {
      "provenance": [],
      "authorship_tag": "ABX9TyNgREM1RG2TFpknU08xRVMA",
      "include_colab_link": true
    },
    "kernelspec": {
      "name": "python3",
      "display_name": "Python 3"
    },
    "language_info": {
      "name": "python"
    }
  },
  "cells": [
    {
      "cell_type": "markdown",
      "metadata": {
        "id": "view-in-github",
        "colab_type": "text"
      },
      "source": [
        "<a href=\"https://colab.research.google.com/github/Supriyadandawate/100-Basics-Python-Programmings/blob/main/Program_4.ipynb\" target=\"_parent\"><img src=\"https://colab.research.google.com/assets/colab-badge.svg\" alt=\"Open In Colab\"/></a>"
      ]
    },
    {
      "cell_type": "markdown",
      "source": [
        "# Write a  python progarm to swap two variables\n"
      ],
      "metadata": {
        "id": "A15b-4ysiKk2"
      }
    },
    {
      "cell_type": "code",
      "execution_count": 2,
      "metadata": {
        "colab": {
          "base_uri": "https://localhost:8080/"
        },
        "id": "U8z4c8_Dh9-d",
        "outputId": "a9612930-9b4f-4445-e8c9-bdfadef78d3f"
      },
      "outputs": [
        {
          "output_type": "stream",
          "name": "stdout",
          "text": [
            "Enter the value of the first variable(a): 10\n",
            "Enter the value of the second variable(b): 12\n",
            "Original values: a = 10,b = 12\n",
            "Swapped values: a = 12, b=10\n"
          ]
        }
      ],
      "source": [
        "# Input two variables\n",
        "a = input(\"Enter the value of the first variable(a): \")\n",
        "b = input(\"Enter the value of the second variable(b): \")\n",
        "#Dispaly the original value\n",
        "print(f\"Original values: a = {a},b = {b}\")\n",
        "#Swap the values using a temporary variable\n",
        "temp = a\n",
        "a = b\n",
        "b = temp\n",
        "# Display the swapped values\n",
        "print(f\"Swapped values: a = {a}, b={b}\")"
      ]
    }
  ]
}