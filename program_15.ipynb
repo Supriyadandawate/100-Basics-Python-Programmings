{
  "nbformat": 4,
  "nbformat_minor": 0,
  "metadata": {
    "colab": {
      "provenance": [],
      "authorship_tag": "ABX9TyMnMoCu/cqg7g2732R25xmS",
      "include_colab_link": true
    },
    "kernelspec": {
      "name": "python3",
      "display_name": "Python 3"
    },
    "language_info": {
      "name": "python"
    }
  },
  "cells": [
    {
      "cell_type": "markdown",
      "metadata": {
        "id": "view-in-github",
        "colab_type": "text"
      },
      "source": [
        "<a href=\"https://colab.research.google.com/github/Supriyadandawate/100-Basics-Python-Programmings/blob/main/program_15.ipynb\" target=\"_parent\"><img src=\"https://colab.research.google.com/assets/colab-badge.svg\" alt=\"Open In Colab\"/></a>"
      ]
    },
    {
      "cell_type": "markdown",
      "source": [
        "# Writing Fibonacci Series"
      ],
      "metadata": {
        "id": "TOchIEvJKZ7A"
      }
    },
    {
      "cell_type": "code",
      "source": [
        "fib =[0,1]\n",
        "# Range starts from 0 by default\n",
        "n=5\n",
        "for i in range (n):\n",
        "    fib.append(fib[-1]+fib[-2])\n",
        "# Converting the list of integers of string\n",
        "print(','.join(str(e) for e in fib ))"
      ],
      "metadata": {
        "colab": {
          "base_uri": "https://localhost:8080/"
        },
        "id": "9aug-WI8Kfeq",
        "outputId": "f30b227e-8b7b-4415-f466-26b964b03b5a"
      },
      "execution_count": 2,
      "outputs": [
        {
          "output_type": "stream",
          "name": "stdout",
          "text": [
            "0,1,1,2,3,5,8\n"
          ]
        }
      ]
    }
  ]
}